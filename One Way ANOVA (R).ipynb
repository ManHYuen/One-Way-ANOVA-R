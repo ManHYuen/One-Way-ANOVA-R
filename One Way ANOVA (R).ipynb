{
 "cells": [
  {
   "cell_type": "code",
   "execution_count": 18,
   "metadata": {},
   "outputs": [],
   "source": [
    "library(reshape2)\n",
    "library(ggplot2)\n",
    "# Testing more than two sample\n",
    "# A company want to evaluate three different method for training its employees to do a particular job\n",
    "Method_1 <- c(95, 91, 89, 90, 99, 88, 96, 98, 95, NA)\n",
    "Method_2 <- c(83, 89, 85, 89, 81, 89, 90, 82, 84, 80)\n",
    "Method_3 <- c(68, 75, 79, 74, 75, 81, 73, 77, NA, NA)"
   ]
  },
  {
   "cell_type": "code",
   "execution_count": 2,
   "metadata": {},
   "outputs": [],
   "source": [
    "Three_Training_Methods <- data.frame(Method_1, Method_2, Method_3)"
   ]
  },
  {
   "cell_type": "code",
   "execution_count": 20,
   "metadata": {},
   "outputs": [
    {
     "data": {
      "text/html": [
       "<table>\n",
       "<thead><tr><th scope=col>Method_1</th><th scope=col>Method_2</th><th scope=col>Method_3</th></tr></thead>\n",
       "<tbody>\n",
       "\t<tr><td>95</td><td>83</td><td>68</td></tr>\n",
       "\t<tr><td>91</td><td>89</td><td>75</td></tr>\n",
       "\t<tr><td>89</td><td>85</td><td>79</td></tr>\n",
       "\t<tr><td>90</td><td>89</td><td>74</td></tr>\n",
       "\t<tr><td>99</td><td>81</td><td>75</td></tr>\n",
       "\t<tr><td>88</td><td>89</td><td>81</td></tr>\n",
       "\t<tr><td>96</td><td>90</td><td>73</td></tr>\n",
       "\t<tr><td>98</td><td>82</td><td>77</td></tr>\n",
       "\t<tr><td>95</td><td>84</td><td>NA</td></tr>\n",
       "\t<tr><td>NA</td><td>80</td><td>NA</td></tr>\n",
       "</tbody>\n",
       "</table>\n"
      ],
      "text/latex": [
       "\\begin{tabular}{r|lll}\n",
       " Method\\_1 & Method\\_2 & Method\\_3\\\\\n",
       "\\hline\n",
       "\t 95 & 83 & 68\\\\\n",
       "\t 91 & 89 & 75\\\\\n",
       "\t 89 & 85 & 79\\\\\n",
       "\t 90 & 89 & 74\\\\\n",
       "\t 99 & 81 & 75\\\\\n",
       "\t 88 & 89 & 81\\\\\n",
       "\t 96 & 90 & 73\\\\\n",
       "\t 98 & 82 & 77\\\\\n",
       "\t 95 & 84 & NA\\\\\n",
       "\t NA & 80 & NA\\\\\n",
       "\\end{tabular}\n"
      ],
      "text/markdown": [
       "\n",
       "Method_1 | Method_2 | Method_3 | \n",
       "|---|---|---|---|---|---|---|---|---|---|\n",
       "| 95 | 83 | 68 | \n",
       "| 91 | 89 | 75 | \n",
       "| 89 | 85 | 79 | \n",
       "| 90 | 89 | 74 | \n",
       "| 99 | 81 | 75 | \n",
       "| 88 | 89 | 81 | \n",
       "| 96 | 90 | 73 | \n",
       "| 98 | 82 | 77 | \n",
       "| 95 | 84 | NA | \n",
       "| NA | 80 | NA | \n",
       "\n",
       "\n"
      ],
      "text/plain": [
       "   Method_1 Method_2 Method_3\n",
       "1  95       83       68      \n",
       "2  91       89       75      \n",
       "3  89       85       79      \n",
       "4  90       89       74      \n",
       "5  99       81       75      \n",
       "6  88       89       81      \n",
       "7  96       90       73      \n",
       "8  98       82       77      \n",
       "9  95       84       NA      \n",
       "10 NA       80       NA      "
      ]
     },
     "metadata": {},
     "output_type": "display_data"
    }
   ],
   "source": [
    "Three_Training_Methods"
   ]
  },
  {
   "cell_type": "code",
   "execution_count": 4,
   "metadata": {},
   "outputs": [
    {
     "data": {
      "text/html": [
       "<dl class=dl-horizontal>\n",
       "\t<dt>Method_1</dt>\n",
       "\t\t<dd>93.44</dd>\n",
       "\t<dt>Method_2</dt>\n",
       "\t\t<dd>85.2</dd>\n",
       "\t<dt>Method_3</dt>\n",
       "\t\t<dd>75.25</dd>\n",
       "</dl>\n"
      ],
      "text/latex": [
       "\\begin{description*}\n",
       "\\item[Method\\textbackslash{}\\_1] 93.44\n",
       "\\item[Method\\textbackslash{}\\_2] 85.2\n",
       "\\item[Method\\textbackslash{}\\_3] 75.25\n",
       "\\end{description*}\n"
      ],
      "text/markdown": [
       "Method_1\n",
       ":   93.44Method_2\n",
       ":   85.2Method_3\n",
       ":   75.25\n",
       "\n"
      ],
      "text/plain": [
       "Method_1 Method_2 Method_3 \n",
       "   93.44    85.20    75.25 "
      ]
     },
     "metadata": {},
     "output_type": "display_data"
    }
   ],
   "source": [
    "# find the mean of each method\n",
    "round(colMeans(Three_Training_Methods, na.rm=TRUE), 2)"
   ]
  },
  {
   "cell_type": "code",
   "execution_count": 5,
   "metadata": {},
   "outputs": [
    {
     "data": {
      "text/html": [
       "<dl class=dl-horizontal>\n",
       "\t<dt>Method_1</dt>\n",
       "\t\t<dd>16.28</dd>\n",
       "\t<dt>Method_2</dt>\n",
       "\t\t<dd>14.18</dd>\n",
       "\t<dt>Method_3</dt>\n",
       "\t\t<dd>15.64</dd>\n",
       "</dl>\n"
      ],
      "text/latex": [
       "\\begin{description*}\n",
       "\\item[Method\\textbackslash{}\\_1] 16.28\n",
       "\\item[Method\\textbackslash{}\\_2] 14.18\n",
       "\\item[Method\\textbackslash{}\\_3] 15.64\n",
       "\\end{description*}\n"
      ],
      "text/markdown": [
       "Method_1\n",
       ":   16.28Method_2\n",
       ":   14.18Method_3\n",
       ":   15.64\n",
       "\n"
      ],
      "text/plain": [
       "Method_1 Method_2 Method_3 \n",
       "   16.28    14.18    15.64 "
      ]
     },
     "metadata": {},
     "output_type": "display_data"
    }
   ],
   "source": [
    "# find the varience of each method\n",
    "round(sapply(Three_Training_Methods, var, na.rm=TRUE), 2)"
   ]
  },
  {
   "cell_type": "code",
   "execution_count": 6,
   "metadata": {},
   "outputs": [
    {
     "data": {
      "text/html": [
       "<dl class=dl-horizontal>\n",
       "\t<dt>Method_1</dt>\n",
       "\t\t<dd>4.03</dd>\n",
       "\t<dt>Method_2</dt>\n",
       "\t\t<dd>3.77</dd>\n",
       "\t<dt>Method_3</dt>\n",
       "\t\t<dd>3.96</dd>\n",
       "</dl>\n"
      ],
      "text/latex": [
       "\\begin{description*}\n",
       "\\item[Method\\textbackslash{}\\_1] 4.03\n",
       "\\item[Method\\textbackslash{}\\_2] 3.77\n",
       "\\item[Method\\textbackslash{}\\_3] 3.96\n",
       "\\end{description*}\n"
      ],
      "text/markdown": [
       "Method_1\n",
       ":   4.03Method_2\n",
       ":   3.77Method_3\n",
       ":   3.96\n",
       "\n"
      ],
      "text/plain": [
       "Method_1 Method_2 Method_3 \n",
       "    4.03     3.77     3.96 "
      ]
     },
     "metadata": {},
     "output_type": "display_data"
    }
   ],
   "source": [
    "# find dthe standard deviation of each method\n",
    "round(sapply(Three_Training_Methods, sd, na.rm=TRUE), 2)"
   ]
  },
  {
   "cell_type": "code",
   "execution_count": 7,
   "metadata": {},
   "outputs": [],
   "source": [
    "# hypothesis\n",
    "# h0: the mean of the three methods are the same u1 = u2 = u3\n",
    "# h1: Not h0\n",
    "# h0 can transform into SSB<=SSW\n",
    "# h1 can transform into SSB=>SSW"
   ]
  },
  {
   "cell_type": "code",
   "execution_count": 10,
   "metadata": {},
   "outputs": [
    {
     "name": "stderr",
     "output_type": "stream",
     "text": [
      "No id variables; using all as measure variables\n"
     ]
    },
    {
     "data": {
      "text/html": [
       "<table>\n",
       "<thead><tr><th scope=col>variable</th><th scope=col>Score</th></tr></thead>\n",
       "<tbody>\n",
       "\t<tr><td>Method_1</td><td>95      </td></tr>\n",
       "\t<tr><td>Method_1</td><td>91      </td></tr>\n",
       "\t<tr><td>Method_1</td><td>89      </td></tr>\n",
       "\t<tr><td>Method_1</td><td>90      </td></tr>\n",
       "\t<tr><td>Method_1</td><td>99      </td></tr>\n",
       "\t<tr><td>Method_1</td><td>88      </td></tr>\n",
       "</tbody>\n",
       "</table>\n"
      ],
      "text/latex": [
       "\\begin{tabular}{r|ll}\n",
       " variable & Score\\\\\n",
       "\\hline\n",
       "\t Method\\_1 & 95        \\\\\n",
       "\t Method\\_1 & 91        \\\\\n",
       "\t Method\\_1 & 89        \\\\\n",
       "\t Method\\_1 & 90        \\\\\n",
       "\t Method\\_1 & 99        \\\\\n",
       "\t Method\\_1 & 88        \\\\\n",
       "\\end{tabular}\n"
      ],
      "text/markdown": [
       "\n",
       "variable | Score | \n",
       "|---|---|---|---|---|---|\n",
       "| Method_1 | 95       | \n",
       "| Method_1 | 91       | \n",
       "| Method_1 | 89       | \n",
       "| Method_1 | 90       | \n",
       "| Method_1 | 99       | \n",
       "| Method_1 | 88       | \n",
       "\n",
       "\n"
      ],
      "text/plain": [
       "  variable Score\n",
       "1 Method_1 95   \n",
       "2 Method_1 91   \n",
       "3 Method_1 89   \n",
       "4 Method_1 90   \n",
       "5 Method_1 99   \n",
       "6 Method_1 88   "
      ]
     },
     "metadata": {},
     "output_type": "display_data"
    }
   ],
   "source": [
    "head(Three_Training_Methods.melt <- melt(Three_Training_Methods, value.name = \"Score\"))"
   ]
  },
  {
   "cell_type": "code",
   "execution_count": 11,
   "metadata": {},
   "outputs": [],
   "source": [
    "colnames(Three_Training_Methods.melt) <- c(\"Method\", \"Score\")"
   ]
  },
  {
   "cell_type": "code",
   "execution_count": 12,
   "metadata": {},
   "outputs": [
    {
     "data": {
      "text/html": [
       "<table>\n",
       "<thead><tr><th scope=col>Method</th><th scope=col>Score</th></tr></thead>\n",
       "<tbody>\n",
       "\t<tr><td>Method_1</td><td>95      </td></tr>\n",
       "\t<tr><td>Method_1</td><td>91      </td></tr>\n",
       "\t<tr><td>Method_1</td><td>89      </td></tr>\n",
       "\t<tr><td>Method_1</td><td>90      </td></tr>\n",
       "\t<tr><td>Method_1</td><td>99      </td></tr>\n",
       "\t<tr><td>Method_1</td><td>88      </td></tr>\n",
       "</tbody>\n",
       "</table>\n"
      ],
      "text/latex": [
       "\\begin{tabular}{r|ll}\n",
       " Method & Score\\\\\n",
       "\\hline\n",
       "\t Method\\_1 & 95        \\\\\n",
       "\t Method\\_1 & 91        \\\\\n",
       "\t Method\\_1 & 89        \\\\\n",
       "\t Method\\_1 & 90        \\\\\n",
       "\t Method\\_1 & 99        \\\\\n",
       "\t Method\\_1 & 88        \\\\\n",
       "\\end{tabular}\n"
      ],
      "text/markdown": [
       "\n",
       "Method | Score | \n",
       "|---|---|---|---|---|---|\n",
       "| Method_1 | 95       | \n",
       "| Method_1 | 91       | \n",
       "| Method_1 | 89       | \n",
       "| Method_1 | 90       | \n",
       "| Method_1 | 99       | \n",
       "| Method_1 | 88       | \n",
       "\n",
       "\n"
      ],
      "text/plain": [
       "  Method   Score\n",
       "1 Method_1 95   \n",
       "2 Method_1 91   \n",
       "3 Method_1 89   \n",
       "4 Method_1 90   \n",
       "5 Method_1 99   \n",
       "6 Method_1 88   "
      ]
     },
     "metadata": {},
     "output_type": "display_data"
    }
   ],
   "source": [
    "head(Three_Training_Methods.melt)"
   ]
  },
  {
   "cell_type": "code",
   "execution_count": 13,
   "metadata": {},
   "outputs": [],
   "source": [
    "analysis <- aov(Score ~ Method, data = Three_Training_Methods.melt)"
   ]
  },
  {
   "cell_type": "code",
   "execution_count": 14,
   "metadata": {},
   "outputs": [
    {
     "data": {
      "text/plain": [
       "            Df Sum Sq Mean Sq F value   Pr(>F)    \n",
       "Method       2 1402.7   701.3   45.82 6.38e-09 ***\n",
       "Residuals   24  367.3    15.3                     \n",
       "---\n",
       "Signif. codes:  0 ‘***’ 0.001 ‘**’ 0.01 ‘*’ 0.05 ‘.’ 0.1 ‘ ’ 1\n",
       "3 observations deleted due to missingness"
      ]
     },
     "metadata": {},
     "output_type": "display_data"
    }
   ],
   "source": [
    "summary(analysis)"
   ]
  },
  {
   "cell_type": "code",
   "execution_count": 15,
   "metadata": {},
   "outputs": [
    {
     "data": {
      "text/html": [
       "4.32"
      ],
      "text/latex": [
       "4.32"
      ],
      "text/markdown": [
       "4.32"
      ],
      "text/plain": [
       "[1] 4.32"
      ]
     },
     "metadata": {},
     "output_type": "display_data"
    }
   ],
   "source": [
    "# the f-value in this case is 45.82, which is much bigger than 4.32, so we can reject the null hypothesis\n",
    "round(qf(0.025, df1=2, df2=24, lower.tail=FALSE), 2)"
   ]
  },
  {
   "cell_type": "code",
   "execution_count": 19,
   "metadata": {},
   "outputs": [
    {
     "name": "stderr",
     "output_type": "stream",
     "text": [
      "Warning message:\n",
      "“Removed 3 rows containing non-finite values (stat_boxplot).”Warning message:\n",
      "“Removed 3 rows containing non-finite values (stat_boxplot).”"
     ]
    },
    {
     "data": {},
     "metadata": {},
     "output_type": "display_data"
    },
    {
     "data": {
      "image/png": "[encoded data removed]",
      "text/plain": [
       "plot without title"
      ]
     },
     "metadata": {},
     "output_type": "display_data"
    }
   ],
   "source": [
    "# Visualizing the results\n",
    "ggplot(Three_Training_Methods.melt, aes(x=Method, y=Score)) + stat_boxplot(geom=\"errorbar\", width=0.05) + geom_boxplot()"
   ]
  },
  {
   "cell_type": "code",
   "execution_count": 21,
   "metadata": {},
   "outputs": [],
   "source": [
    "# based on the above information, we can see that the mean of all three methods are difference, but we still don't know how they are different to each other. in order to get more insight, we will do contract between the each method\n",
    "# first set of contrast: Method_2 mean > Method_3 mean and Method_1 mean > average of Method_2 and Method_3\n",
    "# Second set of contrast: Method_1 mean > Method_2 mean and Method_3 mean > average of Method_1 and Method_2\n",
    "# Third set of contrast: Method_3 mean > Method_1 mean and Method_2 mean > average of Method_1 and Method_3"
   ]
  },
  {
   "cell_type": "code",
   "execution_count": 22,
   "metadata": {},
   "outputs": [],
   "source": [
    "# the comparison coefficients for the first set is (0, +1, -1) and (+2, -1, -1)\n",
    "# the comparison coefficients for the second set is (+1, -1, 0) and (-1, -1, +2)\n",
    "# the comparison coefficients for the third set is (1, 0, -1) and (-1, +2, -1)"
   ]
  },
  {
   "cell_type": "code",
   "execution_count": 25,
   "metadata": {},
   "outputs": [],
   "source": [
    "# For the first set\n",
    "contrasts(Three_Training_Methods.melt$Method) <- matrix(c(0,1,-1,2,-1,-1), 3, 3)"
   ]
  },
  {
   "cell_type": "code",
   "execution_count": 27,
   "metadata": {},
   "outputs": [],
   "source": [
    "set1 <- contrasts(Three_Training_Methods.melt$Method)"
   ]
  },
  {
   "cell_type": "code",
   "execution_count": 28,
   "metadata": {},
   "outputs": [
    {
     "data": {
      "text/html": [
       "<table>\n",
       "<tbody>\n",
       "\t<tr><th scope=row>Method_1</th><td> 0</td><td> 2</td></tr>\n",
       "\t<tr><th scope=row>Method_2</th><td> 1</td><td>-1</td></tr>\n",
       "\t<tr><th scope=row>Method_3</th><td>-1</td><td>-1</td></tr>\n",
       "</tbody>\n",
       "</table>\n"
      ],
      "text/latex": [
       "\\begin{tabular}{r|ll}\n",
       "\tMethod\\_1 &  0 &  2\\\\\n",
       "\tMethod\\_2 &  1 & -1\\\\\n",
       "\tMethod\\_3 & -1 & -1\\\\\n",
       "\\end{tabular}\n"
      ],
      "text/markdown": [
       "\n",
       "| Method_1 |  0 |  2 | \n",
       "| Method_2 |  1 | -1 | \n",
       "| Method_3 | -1 | -1 | \n",
       "\n",
       "\n"
      ],
      "text/plain": [
       "         [,1] [,2]\n",
       "Method_1  0    2  \n",
       "Method_2  1   -1  \n",
       "Method_3 -1   -1  "
      ]
     },
     "metadata": {},
     "output_type": "display_data"
    }
   ],
   "source": [
    "set1"
   ]
  },
  {
   "cell_type": "code",
   "execution_count": 29,
   "metadata": {},
   "outputs": [],
   "source": [
    "set1_contrast <- aov(Score ~ Method, data=Three_Training_Methods.melt, contrasts = set1)"
   ]
  },
  {
   "cell_type": "code",
   "execution_count": 32,
   "metadata": {},
   "outputs": [
    {
     "data": {
      "text/plain": [
       "                     Df Sum Sq Mean Sq F value   Pr(>F)    \n",
       "Method                2 1402.7   701.3   45.82 6.38e-09 ***\n",
       "  Method: 2 vs 3      1  358.5   358.5   23.42 6.24e-05 ***\n",
       "  Method: 1 vs 2 & 3  1 1044.2  1044.2   68.22 1.78e-08 ***\n",
       "Residuals            24  367.3    15.3                     \n",
       "---\n",
       "Signif. codes:  0 ‘***’ 0.001 ‘**’ 0.01 ‘*’ 0.05 ‘.’ 0.1 ‘ ’ 1\n",
       "3 observations deleted due to missingness"
      ]
     },
     "metadata": {},
     "output_type": "display_data"
    }
   ],
   "source": [
    "summary(set1_contrast, split=list(Method=list(\"2 vs 3\"= 1, \"1 vs 2 & 3\"=2)))"
   ]
  },
  {
   "cell_type": "code",
   "execution_count": 33,
   "metadata": {},
   "outputs": [],
   "source": [
    "# for set 1, we can see that method 2 mean is bigger than method 3 and the mean of method 1 is bigger than the average of method 2 and method 3"
   ]
  },
  {
   "cell_type": "code",
   "execution_count": 35,
   "metadata": {},
   "outputs": [],
   "source": [
    "# for set 2\n",
    "contrasts(Three_Training_Methods.melt$Method) <- matrix(c(1, -1, 0, -1, -1, 2), 3, 2)"
   ]
  },
  {
   "cell_type": "code",
   "execution_count": 36,
   "metadata": {},
   "outputs": [],
   "source": [
    "set2 <- contrasts(Three_Training_Methods.melt$Method)"
   ]
  },
  {
   "cell_type": "code",
   "execution_count": 37,
   "metadata": {},
   "outputs": [
    {
     "data": {
      "text/html": [
       "<table>\n",
       "<tbody>\n",
       "\t<tr><th scope=row>Method_1</th><td> 1</td><td>-1</td></tr>\n",
       "\t<tr><th scope=row>Method_2</th><td>-1</td><td>-1</td></tr>\n",
       "\t<tr><th scope=row>Method_3</th><td> 0</td><td> 2</td></tr>\n",
       "</tbody>\n",
       "</table>\n"
      ],
      "text/latex": [
       "\\begin{tabular}{r|ll}\n",
       "\tMethod\\_1 &  1 & -1\\\\\n",
       "\tMethod\\_2 & -1 & -1\\\\\n",
       "\tMethod\\_3 &  0 &  2\\\\\n",
       "\\end{tabular}\n"
      ],
      "text/markdown": [
       "\n",
       "| Method_1 |  1 | -1 | \n",
       "| Method_2 | -1 | -1 | \n",
       "| Method_3 |  0 |  2 | \n",
       "\n",
       "\n"
      ],
      "text/plain": [
       "         [,1] [,2]\n",
       "Method_1  1   -1  \n",
       "Method_2 -1   -1  \n",
       "Method_3  0    2  "
      ]
     },
     "metadata": {},
     "output_type": "display_data"
    }
   ],
   "source": [
    "set2"
   ]
  },
  {
   "cell_type": "code",
   "execution_count": 38,
   "metadata": {},
   "outputs": [],
   "source": [
    "set2_contrast <- aov(Score ~ Method, data=Three_Training_Methods.melt, contrasts = set2)"
   ]
  },
  {
   "cell_type": "code",
   "execution_count": 40,
   "metadata": {},
   "outputs": [
    {
     "data": {
      "text/plain": [
       "                     Df Sum Sq Mean Sq F value   Pr(>F)    \n",
       "Method                2 1402.7   701.3   45.82 6.38e-09 ***\n",
       "  Method: 1 vs 2      1  288.8   288.8   18.87  0.00022 ***\n",
       "  Method: 3 vs 1 & 2  1 1113.9  1113.9   72.78 9.93e-09 ***\n",
       "Residuals            24  367.3    15.3                     \n",
       "---\n",
       "Signif. codes:  0 ‘***’ 0.001 ‘**’ 0.01 ‘*’ 0.05 ‘.’ 0.1 ‘ ’ 1\n",
       "3 observations deleted due to missingness"
      ]
     },
     "metadata": {},
     "output_type": "display_data"
    }
   ],
   "source": [
    "summary(set2_contrast, split=list(Method=list(\"1 vs 2\"=1, \"3 vs 1 & 2\"=2))) "
   ]
  },
  {
   "cell_type": "code",
   "execution_count": null,
   "metadata": {},
   "outputs": [],
   "source": [
    "# based on the contrast, we can see that the mean of method 1 is bigger than method 2 and the mean of method 3 is bigger than the average of method 1 and 2"
   ]
  },
  {
   "cell_type": "code",
   "execution_count": 54,
   "metadata": {},
   "outputs": [],
   "source": [
    "# for set 3\n",
    "contrasts(Three_Training_Methods.melt$Method) <- matrix(c(1,0,-1,-1,2,-1),3,2)"
   ]
  },
  {
   "cell_type": "code",
   "execution_count": 55,
   "metadata": {},
   "outputs": [],
   "source": [
    "set3 <- contrasts(Three_Training_Methods.melt$Method)"
   ]
  },
  {
   "cell_type": "code",
   "execution_count": 56,
   "metadata": {},
   "outputs": [
    {
     "data": {
      "text/html": [
       "<table>\n",
       "<tbody>\n",
       "\t<tr><th scope=row>Method_1</th><td> 1</td><td>-1</td></tr>\n",
       "\t<tr><th scope=row>Method_2</th><td> 0</td><td> 2</td></tr>\n",
       "\t<tr><th scope=row>Method_3</th><td>-1</td><td>-1</td></tr>\n",
       "</tbody>\n",
       "</table>\n"
      ],
      "text/latex": [
       "\\begin{tabular}{r|ll}\n",
       "\tMethod\\_1 &  1 & -1\\\\\n",
       "\tMethod\\_2 &  0 &  2\\\\\n",
       "\tMethod\\_3 & -1 & -1\\\\\n",
       "\\end{tabular}\n"
      ],
      "text/markdown": [
       "\n",
       "| Method_1 |  1 | -1 | \n",
       "| Method_2 |  0 |  2 | \n",
       "| Method_3 | -1 | -1 | \n",
       "\n",
       "\n"
      ],
      "text/plain": [
       "         [,1] [,2]\n",
       "Method_1  1   -1  \n",
       "Method_2  0    2  \n",
       "Method_3 -1   -1  "
      ]
     },
     "metadata": {},
     "output_type": "display_data"
    }
   ],
   "source": [
    "set3"
   ]
  },
  {
   "cell_type": "code",
   "execution_count": 57,
   "metadata": {},
   "outputs": [],
   "source": [
    "set3_contrast <- aov(Score ~ Method, data=Three_Training_Methods.melt, contrasts = set3)"
   ]
  },
  {
   "cell_type": "code",
   "execution_count": 58,
   "metadata": {},
   "outputs": [
    {
     "data": {
      "text/plain": [
       "                     Df Sum Sq Mean Sq F value   Pr(>F)    \n",
       "Method                2 1402.7   701.3  45.824 6.38e-09 ***\n",
       "  Method: 1 vs 3      1 1398.1  1398.1  91.349 1.18e-09 ***\n",
       "  Method: 2 vs 1 & 3  1    4.6     4.6   0.299     0.59    \n",
       "Residuals            24  367.3    15.3                     \n",
       "---\n",
       "Signif. codes:  0 ‘***’ 0.001 ‘**’ 0.01 ‘*’ 0.05 ‘.’ 0.1 ‘ ’ 1\n",
       "3 observations deleted due to missingness"
      ]
     },
     "metadata": {},
     "output_type": "display_data"
    }
   ],
   "source": [
    "summary(set3_contrast, split=list(Method=list(\"1 vs 3\"=1, \"2 vs 1 & 3\"=2)))"
   ]
  },
  {
   "cell_type": "code",
   "execution_count": 59,
   "metadata": {},
   "outputs": [],
   "source": [
    "# based on the result, we can see that the mean of method 1 is bigger than method 3, but the mean of method 2 is not bigger than the average of method 1 and 3"
   ]
  },
  {
   "cell_type": "code",
   "execution_count": 61,
   "metadata": {},
   "outputs": [
    {
     "data": {
      "text/plain": [
       "  Tukey multiple comparisons of means\n",
       "    95% family-wise confidence level\n",
       "\n",
       "Fit: aov(formula = Score ~ Method, data = Three_Training_Methods.melt)\n",
       "\n",
       "$Method\n",
       "                        diff       lwr        upr     p adj\n",
       "Method_2-Method_1  -8.244444 -12.73337  -3.755523 0.0003383\n",
       "Method_3-Method_1 -18.194444 -22.94172 -13.447166 0.0000000\n",
       "Method_3-Method_2  -9.950000 -14.58423  -5.315769 0.0000481\n"
      ]
     },
     "metadata": {},
     "output_type": "display_data"
    }
   ],
   "source": [
    "# do a tukey test to confirm the above result\n",
    "TukeyHSD(analysis)"
   ]
  },
  {
   "cell_type": "code",
   "execution_count": null,
   "metadata": {},
   "outputs": [],
   "source": [
    "# based on the result we can see that the mean of each method is significantly different from each other"
   ]
  }
 ],
 "metadata": {
  "kernelspec": {
   "display_name": "R",
   "language": "R",
   "name": "ir"
  },
  "language_info": {
   "codemirror_mode": "r",
   "file_extension": ".r",
   "mimetype": "text/x-r-source",
   "name": "R",
   "pygments_lexer": "r",
   "version": "3.5.0"
  }
 },
 "nbformat": 4,
 "nbformat_minor": 2
}
